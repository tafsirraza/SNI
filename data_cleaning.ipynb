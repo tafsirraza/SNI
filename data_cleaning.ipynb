{
 "cells": [
  {
   "cell_type": "code",
   "execution_count": 1,
   "metadata": {},
   "outputs": [],
   "source": [
    "import os\n",
    "import pdb\n",
    "import pywt\n",
    "import pandas as pd\n",
    "import numpy as np\n",
    "import matplotlib.pyplot as plt\n",
    "from datetime import datetime\n",
    "from obspy import read\n",
    "from sklearn.preprocessing import MinMaxScaler\n",
    "from obspy.signal.filter import bandpass"
   ]
  },
  {
   "cell_type": "code",
   "execution_count": 2,
   "metadata": {},
   "outputs": [],
   "source": [
    "lunar_cat = 'data/lunar/training/catalogs/apollo12_catalog_GradeA_final.csv'\n",
    "lunar_df = pd.read_csv(lunar_cat)\n",
    "\n",
    "lunar_event = dict(zip(lunar_df['filename'],  lunar_df['time_rel(sec)']))"
   ]
  },
  {
   "cell_type": "code",
   "execution_count": 3,
   "metadata": {},
   "outputs": [],
   "source": [
    "def wavelet_transform(data, wavelet, scales):\n",
    "    coefficients, frequencies = pywt.cwt(data, scales, wavelet)\n",
    "    return np.abs(coefficients), frequencies"
   ]
  },
  {
   "cell_type": "code",
   "execution_count": 4,
   "metadata": {},
   "outputs": [],
   "source": [
    "\n",
    "def plot_trace(tr_times, tr_data, arrival, coefficients, scales):\n",
    "    fig, (ax, ax2) = plt.subplots(2, 1, figsize=(10, 6))\n",
    "\n",
    "    ax.plot(tr_times,tr_data)\n",
    "\n",
    "    ax.axvline(x = arrival, color='red',label='Rel. Arrival')\n",
    "    ax.legend(loc='upper left')\n",
    "\n",
    "    ax.set_xlim([min(tr_times),max(tr_times)])\n",
    "    ax.set_ylabel('Velocity (m/s)')\n",
    "    ax.set_title('Seismic Trace', fontweight='bold')\n",
    "\n",
    "    ax2.imshow(coefficients, extent=[tr_times.min(), tr_times.max(), scales.min(), scales.max()],\n",
    "               aspect='auto', interpolation='bilinear', cmap='jet')\n",
    "    ax2.set_ylabel('Scales')\n",
    "    ax2.set_xlabel('Time (s)')\n",
    "    ax2.set_title('Wavelet Coefficients', fontweight='bold')\n",
    "\n",
    "    plt.tight_layout()\n",
    "    plt.show()"
   ]
  },
  {
   "cell_type": "code",
   "execution_count": 5,
   "metadata": {},
   "outputs": [],
   "source": [
    "def preprocess_mseed(file_path, arrival, minfreq=0.5, maxfreq=3.0):\n",
    "    wavelet='cmor2.0-1.0' #adjust the center frequency (0.5 to 10 Hz) and bandwidth (around 1.5)\n",
    "    scales = np.arange(1, 100)\n",
    "\n",
    "    st = read(file_path)    \n",
    "    tr = st[0]\n",
    "    if np.count_nonzero(np.isnan(tr.data)) > 0:\n",
    "        print(f\"Warning: Missing values found in {tr.id}. Interpolation may be needed.\")\n",
    "        tr.interpolate(method='linear', tolerance=0.1, sampling_rate=tr.stats.sampling_rate)\n",
    "    \n",
    "    data = tr.data.reshape(-1, 1)\n",
    "    tr_times = tr.times()\n",
    "    scaler = MinMaxScaler()\n",
    "    normalized_data = scaler.fit_transform(data)\n",
    "    tr.data = normalized_data.flatten() \n",
    "    tr.filter(\"bandpass\", freqmin=minfreq, freqmax=maxfreq)\n",
    "    \n",
    "    coefficients, frequencies = wavelet_transform(tr.data, wavelet, scales)\n",
    "    \n",
    "    # plot_trace(tr_times, tr.data, arrival, coefficients, scales) #Use this to check the plot for Seismic trace and Waveleet Coefficients\n",
    "    return tr.data, coefficients"
   ]
  },
  {
   "cell_type": "code",
   "execution_count": 4,
   "metadata": {},
   "outputs": [
    {
     "name": "stdout",
     "output_type": "stream",
     "text": [
      "--Return--\n",
      "None\n",
      "> \u001b[1;32mc:\\users\\manza\\appdata\\local\\temp\\ipykernel_30924\\825828958.py\u001b[0m(3)\u001b[0;36m<module>\u001b[1;34m()\u001b[0m\n",
      "\n"
     ]
    }
   ],
   "source": [
    "mseed_directory = 'data/lunar/training/data/S12_GradeA'\n",
    "\n",
    "'''\n",
    "Looping through each mseed file to apply data preprocessing.\n",
    "'''\n",
    "# for filename in os.listdir(mseed_directory):\n",
    "#     if filename.endswith(\".mseed\"):\n",
    "#         file_path = os.path.join(mseed_directory, filename)\n",
    "#         print(f\"Processing file: {filename}\")\n",
    "#         filtered_data, wavelet_coefficients = preprocess_mseed(file_path)\n",
    "#         break\n",
    "'''\n",
    "test for a single file\n",
    "'''\n",
    "file_path = os.path.join(mseed_directory, 'xa.s12.00.mhz.1970-06-26HR00_evid00009.mseed')\n",
    "arrival_time = lunar_event['xa.s12.00.mhz.1970-06-26HR00_evid00009']\n",
    "print(f\"Processing file: {file_path}\")\n",
    "filtered_data, wavelet_coefficients = preprocess_mseed(file_path, arrival_time)\n",
    "print(filtered_data)\n",
    "print(wavelet_coefficients)\n",
    "\n"
   ]
  },
  {
   "cell_type": "code",
   "execution_count": null,
   "metadata": {},
   "outputs": [],
   "source": [
    "data_dir = \"/path_to_your_data_files/\"  \n",
    "min_freq = 0.5  # Minimum frequency for bandpass filter\n",
    "max_freq = 2.0  # Maximum frequency for bandpass filter\n",
    "sampling_rate = 6.625  # As per the MiniSEED file\n",
    "window_before_event = 30  # seconds\n",
    "window_after_event = 60   # seconds\n",
    "window_length_samples = int((window_before_event + window_after_event) * sampling_rate)\n"
   ]
  }
 ],
 "metadata": {
  "kernelspec": {
   "display_name": "Python 3",
   "language": "python",
   "name": "python3"
  },
  "language_info": {
   "codemirror_mode": {
    "name": "ipython",
    "version": 3
   },
   "file_extension": ".py",
   "mimetype": "text/x-python",
   "name": "python",
   "nbconvert_exporter": "python",
   "pygments_lexer": "ipython3",
   "version": "3.10.11"
  }
 },
 "nbformat": 4,
 "nbformat_minor": 2
}
