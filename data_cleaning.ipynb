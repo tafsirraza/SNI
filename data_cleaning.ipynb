{
 "cells": [
  {
   "cell_type": "code",
   "execution_count": 1,
   "metadata": {},
   "outputs": [],
   "source": [
    "import os\n",
    "import pdb\n",
    "import pywt\n",
    "import pandas as pd\n",
    "import numpy as np\n",
    "import matplotlib.pyplot as plt\n",
    "from datetime import datetime\n",
    "from obspy import read\n",
    "from sklearn.preprocessing import MinMaxScaler\n",
    "from obspy.signal.filter import bandpass"
   ]
  },
  {
   "cell_type": "code",
   "execution_count": 2,
   "metadata": {},
   "outputs": [],
   "source": [
    "lunar_cat = 'data/lunar/training/catalogs/apollo12_catalog_GradeA_final.csv'\n",
    "lunar_df = pd.read_csv(lunar_cat)\n",
    "\n",
    "lunar_event = dict(zip(lunar_df['filename'],  lunar_df['time_rel(sec)']))"
   ]
  },
  {
   "cell_type": "code",
   "execution_count": 3,
   "metadata": {},
   "outputs": [],
   "source": [
    "def wavelet_transform(data, wavelet, scales):\n",
    "    coefficients, frequencies = pywt.cwt(data, scales, wavelet)\n",
    "    return np.abs(coefficients), frequencies"
   ]
  },
  {
   "cell_type": "code",
   "execution_count": 4,
   "metadata": {},
   "outputs": [],
   "source": [
    "\n",
    "def plot_trace(tr_times, tr_data, arrival, coefficients, scales):\n",
    "    fig, (ax, ax2) = plt.subplots(2, 1, figsize=(10, 6))\n",
    "\n",
    "    ax.plot(tr_times,tr_data)\n",
    "\n",
    "    ax.axvline(x = arrival, color='red',label='Rel. Arrival')\n",
    "    ax.legend(loc='upper left')\n",
    "\n",
    "    ax.set_xlim([min(tr_times),max(tr_times)])\n",
    "    ax.set_ylabel('Velocity (m/s)')\n",
    "    ax.set_title('Seismic Trace', fontweight='bold')\n",
    "\n",
    "    ax2.imshow(coefficients, extent=[tr_times.min(), tr_times.max(), scales.min(), scales.max()],\n",
    "               aspect='auto', interpolation='bilinear', cmap='jet')\n",
    "    ax2.set_ylabel('Scales')\n",
    "    ax2.set_xlabel('Time (s)')\n",
    "    ax2.set_title('Wavelet Coefficients', fontweight='bold')\n",
    "\n",
    "    plt.tight_layout()\n",
    "    plt.show()"
   ]
  },
  {
   "cell_type": "code",
   "execution_count": 5,
   "metadata": {},
   "outputs": [],
   "source": [
    "def preprocess_mseed(file_path, arrival, minfreq=0.5, maxfreq=3.0):\n",
    "    wavelet='cmor2.0-1.0' #adjust the center frequency (0.5 to 10 Hz) and bandwidth (around 1.5)\n",
    "    scales = np.arange(1, 100)\n",
    "\n",
    "    st = read(file_path)    \n",
    "    tr = st[0]\n",
    "    if np.count_nonzero(np.isnan(tr.data)) > 0:\n",
    "        print(f\"Warning: Missing values found in {tr.id}. Interpolation may be needed.\")\n",
    "        tr.interpolate(method='linear', tolerance=0.1, sampling_rate=tr.stats.sampling_rate)\n",
    "    \n",
    "    data = tr.data.reshape(-1, 1)\n",
    "    tr_times = tr.times()\n",
    "    scaler = MinMaxScaler()\n",
    "    normalized_data = scaler.fit_transform(data)\n",
    "    tr.data = normalized_data.flatten() \n",
    "    tr.filter(\"bandpass\", freqmin=minfreq, freqmax=maxfreq)\n",
    "    \n",
    "    coefficients, frequencies = wavelet_transform(tr.data, wavelet, scales)\n",
    "    \n",
    "    # plot_trace(tr_times, tr.data, arrival, coefficients, scales) #Use this to check the plot for Seismic trace and Waveleet Coefficients\n",
    "    return tr.data, coefficients"
   ]
  },
  {
   "cell_type": "code",
   "execution_count": 6,
   "metadata": {},
   "outputs": [
    {
     "name": "stdout",
     "output_type": "stream",
     "text": [
      "Processing file: data/lunar/training/data/S12_GradeA\\xa.s12.00.mhz.1970-06-26HR00_evid00009.mseed\n",
      "[ 1.85364131e-01  9.80416292e-02 -2.48695679e-01 ...  2.26957859e-09\n",
      "  7.47876546e-10 -1.07908346e-09]\n",
      "[[6.21278043e-03 1.14884139e-02 2.03014734e-02 ... 7.33170752e-11\n",
      "  1.74725577e-10 1.40907769e-10]\n",
      " [4.08877177e-03 1.09146009e-02 2.22570602e-02 ... 6.30123278e-11\n",
      "  1.17384794e-10 1.67403286e-10]\n",
      " [5.11031264e-02 5.82908498e-02 5.67632122e-02 ... 1.52680140e-10\n",
      "  2.09403520e-10 2.42679232e-10]\n",
      " ...\n",
      " [4.02946566e-03 1.21133671e-02 8.22306556e-03 ... 1.49151428e-09\n",
      "  1.01692772e-09 2.37608287e-10]\n",
      " [4.88351926e-03 1.23654256e-02 7.75771153e-03 ... 2.20175417e-09\n",
      "  1.38534958e-09 7.67545717e-10]\n",
      " [4.44544394e-03 9.59582014e-03 8.50902422e-03 ... 1.19292700e-09\n",
      "  8.23772567e-10 1.80470473e-09]]\n"
     ]
    }
   ],
   "source": [
    "mseed_directory = 'data/lunar/training/data/S12_GradeA'\n",
    "\n",
    "'''\n",
    "Looping through each mseed file to apply data preprocessing.\n",
    "'''\n",
    "# for filename in os.listdir(mseed_directory):\n",
    "#     if filename.endswith(\".mseed\"):\n",
    "#         file_path = os.path.join(mseed_directory, filename)\n",
    "#         print(f\"Processing file: {filename}\")\n",
    "#         filtered_data, wavelet_coefficients = preprocess_mseed(file_path)\n",
    "#         break\n",
    "'''\n",
    "test for a single file\n",
    "'''\n",
    "file_path = os.path.join(mseed_directory, 'xa.s12.00.mhz.1970-06-26HR00_evid00009.mseed')\n",
    "arrival_time = lunar_event['xa.s12.00.mhz.1970-06-26HR00_evid00009']\n",
    "print(f\"Processing file: {file_path}\")\n",
    "filtered_data, wavelet_coefficients = preprocess_mseed(file_path, arrival_time)\n",
    "print(filtered_data)\n",
    "print(wavelet_coefficients)\n",
    "\n"
   ]
  },
  {
   "cell_type": "code",
   "execution_count": null,
   "metadata": {},
   "outputs": [],
   "source": []
  }
 ],
 "metadata": {
  "kernelspec": {
   "display_name": "Python 3",
   "language": "python",
   "name": "python3"
  },
  "language_info": {
   "codemirror_mode": {
    "name": "ipython",
    "version": 3
   },
   "file_extension": ".py",
   "mimetype": "text/x-python",
   "name": "python",
   "nbconvert_exporter": "python",
   "pygments_lexer": "ipython3",
   "version": "3.10.11"
  }
 },
 "nbformat": 4,
 "nbformat_minor": 2
}
